{
  "nbformat": 4,
  "nbformat_minor": 0,
  "metadata": {
    "colab": {
      "provenance": [],
      "authorship_tag": "ABX9TyOcJVXy3FR2cNDAlzdBUh7N",
      "include_colab_link": true
    },
    "kernelspec": {
      "name": "python3",
      "display_name": "Python 3"
    },
    "language_info": {
      "name": "python"
    }
  },
  "cells": [
    {
      "cell_type": "markdown",
      "metadata": {
        "id": "view-in-github",
        "colab_type": "text"
      },
      "source": [
        "<a href=\"https://colab.research.google.com/github/kavithabantupalli/KNN/blob/main/ML_7.ipynb\" target=\"_parent\"><img src=\"https://colab.research.google.com/assets/colab-badge.svg\" alt=\"Open In Colab\"/></a>"
      ]
    },
    {
      "cell_type": "code",
      "execution_count": null,
      "metadata": {
        "id": "5BCf67jywWGh"
      },
      "outputs": [],
      "source": [
        "#knn-\n",
        "import pandas as pd\n",
        "import seaborn as sns\n",
        "import matplotlib.pyplot as plt\n",
        "import numpy as np\n",
        "%matplotlib inline\n",
        "from sklearn.preprocessing import StandardScaler\n",
        "from sklearn.model_selection import train_test_split\n",
        "from sklearn.neighbors import KNeighborsClassifier\n",
        "from sklearn.metrics import classification_report\n",
        "df =pd.read_csv(\"/content/sample_data/ClassifiedData (1).csv\",index_col=0)"
      ]
    },
    {
      "cell_type": "code",
      "source": [
        "scaler = StandardScaler()\n",
        "scaler.fit(df.drop('TARGET CLASS',axis=1))\n",
        "scaled_features = scaler.transform(df.drop('TARGET CLASS',axis=1))\n",
        "df_feat =pd.DataFrame(scaled_features,columns=df.columns[:-1])\n",
        "X_train,X_test,y_train,y_test=train_test_split(scaled_features,df['TARGET CLASS'],test_size=0.30)\n"
      ],
      "metadata": {
        "id": "cdYtvtYX2eLN"
      },
      "execution_count": null,
      "outputs": []
    },
    {
      "cell_type": "code",
      "source": [
        "#Initially with K=1\n",
        "knn1 = KNeighborsClassifier(n_neighbors=1)\n",
        "knn1.fit(X_train,y_train)\n",
        "pred1 =knn1.predict(X_test)\n",
        "print(\"For K=1 result are:\")\n",
        "print(classification_report(y_test,pred1))\n"
      ],
      "metadata": {
        "colab": {
          "base_uri": "https://localhost:8080/"
        },
        "id": "TfTbvjEp33PG",
        "outputId": "d05afc83-1f83-4e21-a5a3-8fdf0a9e7d33"
      },
      "execution_count": null,
      "outputs": [
        {
          "output_type": "stream",
          "name": "stdout",
          "text": [
            "For K=1 result are:\n",
            "              precision    recall  f1-score   support\n",
            "\n",
            "           0       0.94      0.88      0.91       153\n",
            "           1       0.89      0.95      0.91       147\n",
            "\n",
            "    accuracy                           0.91       300\n",
            "   macro avg       0.91      0.91      0.91       300\n",
            "weighted avg       0.92      0.91      0.91       300\n",
            "\n"
          ]
        }
      ]
    },
    {
      "cell_type": "code",
      "source": [
        "#NOw with K=23\n",
        "knn23 = KNeighborsClassifier(n_neighbors=23)\n",
        "knn23.fit(X_train,y_train)\n",
        "pred23 =knn23.predict(X_test)\n",
        "print(\"For K=23 result are:\")\n",
        "print(classification_report(y_test,pred23))\n"
      ],
      "metadata": {
        "colab": {
          "base_uri": "https://localhost:8080/"
        },
        "id": "VpnhuZ6c4eCN",
        "outputId": "3645fabc-7d1f-4fd9-f95f-c0a4fbdb3b6c"
      },
      "execution_count": null,
      "outputs": [
        {
          "output_type": "stream",
          "name": "stdout",
          "text": [
            "For K=23 result are:\n",
            "              precision    recall  f1-score   support\n",
            "\n",
            "           0       0.96      0.91      0.93       153\n",
            "           1       0.91      0.96      0.93       147\n",
            "\n",
            "    accuracy                           0.93       300\n",
            "   macro avg       0.93      0.93      0.93       300\n",
            "weighted avg       0.93      0.93      0.93       300\n",
            "\n"
          ]
        }
      ]
    },
    {
      "cell_type": "code",
      "source": [
        "#NOw with K=25\n",
        "knn25 = KNeighborsClassifier(n_neighbors=25)\n",
        "knn25.fit(X_train,y_train)\n",
        "pred25 =knn25.predict(X_test)\n",
        "print(\"For K=25 result are:\")\n",
        "print(classification_report(y_test,pred25))\n"
      ],
      "metadata": {
        "colab": {
          "base_uri": "https://localhost:8080/"
        },
        "id": "RA5ay-LG5k69",
        "outputId": "ceebcacc-9519-45be-d433-03da8cf08a69"
      },
      "execution_count": null,
      "outputs": [
        {
          "output_type": "stream",
          "name": "stdout",
          "text": [
            "For K=25 result are:\n",
            "              precision    recall  f1-score   support\n",
            "\n",
            "           0       0.96      0.90      0.93       153\n",
            "           1       0.90      0.96      0.93       147\n",
            "\n",
            "    accuracy                           0.93       300\n",
            "   macro avg       0.93      0.93      0.93       300\n",
            "weighted avg       0.93      0.93      0.93       300\n",
            "\n"
          ]
        }
      ]
    },
    {
      "cell_type": "code",
      "source": [],
      "metadata": {
        "id": "dipflqtG7pg3"
      },
      "execution_count": null,
      "outputs": []
    }
  ]
}